{
 "cells": [
  {
   "cell_type": "markdown",
   "metadata": {},
   "source": [
    "### Hypothesis Testing\n",
    "- Parametric Statistical Hypothesis Tests\n",
    "  1. t test(tailed test)\n",
    "      * 1. 1 sample t test\n",
    "          * Left Tailed test\n",
    "          * Right  Tailed test\n",
    "      * 2. 2 sample t test\n",
    "  2. Paired Student’s t-test\n",
    "  3. Analysis of Variance Test (ANOVA)\n",
    "- Nonparametric Statistical Hypothesis Tests\n",
    "  1. Mann-Whitney U Test\n",
    "  2. Wilcoxon Signed-Rank Test\n",
    "  3. Kruskal-Wallis H Test\n",
    "  4. Friedman Test\n",
    "  5. KS Test\n",
    "- Normality Tests\n",
    "  1. Shapiro-Wilk Test\n",
    "  2. D’Agostino’s K^2 Test\n",
    "  3. Anderson-Darling Test\n",
    "- Correlation Tests\n",
    "  1. Pearson’s Correlation Coefficient\n",
    "  2. Spearman’s Rank Correlation\n",
    "  3. Kendall’s Rank Correlation\n",
    "  4. Chi-Squared Test\n",
    "  5. Fisher's Exact Test\n",
    "- Stationary Tests\n",
    "  1. Augmented Dickey-Fuller\n",
    "  2. Kwiatkowski-Phillips-Schmidt-Shin\n",
    "  \n",
    "https://machinelearningmastery.com/statistical-hypothesis-tests-in-python-cheat-sheet/"
   ]
  },
  {
   "cell_type": "markdown",
   "metadata": {},
   "source": [
    "#### 1. T Test(Tailed Test) : \n",
    "- Used to determine difference b/w mean of 2 groups.\n",
    "- 2 type\n",
    "  1. 1 sample T Test(1 Tailed Test)\n",
    "  2. 2 sample T Test(2 Tailed Test)"
   ]
  },
  {
   "cell_type": "markdown",
   "metadata": {},
   "source": [
    "#### 1.1. 1 Sample T Test :\n",
    "- Region of rejection is only one side of sampling distribution.\n",
    "- Total 0.05 of total area under the curve\n",
    "- Critical value either + or -\n",
    "\n",
    "  1. Left Tailed test : Region of rejection is extreme left of sampling distribution.\n",
    "  2. Right Tailed test : Region of rejection is extreme right of sampling distribution.\n",
    "- link : https://docs.scipy.org/doc/scipy/reference/generated/scipy.stats.ttest_1samp.html"
   ]
  },
  {
   "cell_type": "code",
   "execution_count": 69,
   "metadata": {},
   "outputs": [],
   "source": [
    "from scipy.stats import ttest_1samp"
   ]
  },
  {
   "cell_type": "code",
   "execution_count": 70,
   "metadata": {},
   "outputs": [],
   "source": [
    "marriage_age_raj = [33,34,35,36,32,28,29,30,31,37,36,35,33,34,31,40,24]"
   ]
  },
  {
   "cell_type": "markdown",
   "metadata": {},
   "source": [
    "###### Null Hypothesis , H0 = Marriage age in rajasthan is 35\n",
    "\n",
    "###### Alt Hypothesis , Ha = Marriage age in rajasthan is NOT 35"
   ]
  },
  {
   "cell_type": "code",
   "execution_count": 71,
   "metadata": {},
   "outputs": [
    {
     "name": "stdout",
     "output_type": "stream",
     "text": [
      "statistic=-2.354, Pvalue=0.032\n",
      "Probability of marriage age = 35 in rajasthan =  3.166804359862131 %\n",
      "We Reject Null Hypothesis\n",
      "marriage age in ranjasthan NOT = 35\n"
     ]
    }
   ],
   "source": [
    "stat, p = ttest_1samp(marriage_age_raj,35)\n",
    "print('statistic=%.3f, Pvalue=%.3f' % (stat, p))\n",
    "print('Probability of marriage age = 35 in rajasthan = ', p*100,\"%\")\n",
    "if p > 0.05:\n",
    "    print(\"We Accept Null Hypothesis\")\n",
    "    print(\"marriage age in ranjasthan = 35\")\n",
    "else:\n",
    "    print(\"We Reject Null Hypothesis\")\n",
    "    print(\"marriage age in ranjasthan NOT = 35\")"
   ]
  },
  {
   "cell_type": "markdown",
   "metadata": {},
   "source": [
    "#### 1.2. 2 Sample T Test : \n",
    "- Region of rejection is both side of sampling distribution.\n",
    "- Total 0.025 of total area under the curve on both side\n",
    "- Critical value both + and -\n",
    "- link : https://docs.scipy.org/doc/scipy/reference/generated/scipy.stats.ttest_ind.html"
   ]
  },
  {
   "cell_type": "code",
   "execution_count": 72,
   "metadata": {},
   "outputs": [],
   "source": [
    "from scipy.stats import ttest_ind"
   ]
  },
  {
   "cell_type": "code",
   "execution_count": 73,
   "metadata": {},
   "outputs": [],
   "source": [
    "marriage_age_raj = [33,34,35,36,32,28,29,30,31,37,36,35,33,34,31,40,24]\n",
    "marriage_age_bang = [29,31,28,33,31,34,32,20,32,28,27,26,30,31,34,30]"
   ]
  },
  {
   "cell_type": "markdown",
   "metadata": {},
   "source": [
    "###### Null Hypothesis , H0 = Marriage age in Rajasthan and Bangalore is same. \n",
    "###### Alt Hypothesis , Ha = Marriage age in Rajasthan and Bangalore is NOT same. "
   ]
  },
  {
   "cell_type": "code",
   "execution_count": 74,
   "metadata": {},
   "outputs": [
    {
     "name": "stdout",
     "output_type": "stream",
     "text": [
      "statistic=2.405, Pvalue=0.022\n",
      "Probability of marriage age in bangalore and rajasthan =  2.2355127034138325 %\n",
      "We Reject Null Hypothesis\n",
      "marriage age in ranjasthan and bangalore is NOT same\n"
     ]
    }
   ],
   "source": [
    "stat,p = ttest_ind(marriage_age_raj,marriage_age_bang)\n",
    "print('statistic=%.3f, Pvalue=%.3f' % (stat, p))\n",
    "print('Probability of marriage age in bangalore and rajasthan = ', p*100,\"%\")\n",
    "if p > 0.05:\n",
    "    print(\"We Accept Null Hypothesis\")\n",
    "    print(\"marriage age in ranjasthan and bangalore is same\")\n",
    "else:\n",
    "    print(\"We Reject Null Hypothesis\")\n",
    "    print(\"marriage age in ranjasthan and bangalore is NOT same\")"
   ]
  },
  {
   "cell_type": "markdown",
   "metadata": {},
   "source": [
    "#### 2. Paired T Test : \n",
    "- Used to compair mean of 2 population where we have two sample in which observation of one sample can be paired    with other.\n",
    "- link : https://docs.scipy.org/doc/scipy/reference/generated/scipy.stats.ttest_rel.html"
   ]
  },
  {
   "cell_type": "code",
   "execution_count": 75,
   "metadata": {},
   "outputs": [],
   "source": [
    "from scipy.stats import ttest_rel"
   ]
  },
  {
   "cell_type": "code",
   "execution_count": 76,
   "metadata": {},
   "outputs": [],
   "source": [
    "pre = [88, 82, 84, 93, 75, 78, 84, 87, 95, 91, 83, 89, 77, 68, 91]\n",
    "post = [91, 84, 88, 90, 79, 80, 88, 90, 90, 96, 88, 89, 81, 74, 92]"
   ]
  },
  {
   "cell_type": "markdown",
   "metadata": {},
   "source": [
    "###### Null Hypothesis , H0 = The mean pre-test and post-test scores are equal\n",
    "###### Alt Hypothesis , Ha = The mean pre-test and post-test scores are  not equal"
   ]
  },
  {
   "cell_type": "code",
   "execution_count": 77,
   "metadata": {},
   "outputs": [
    {
     "name": "stdout",
     "output_type": "stream",
     "text": [
      "statistic=-2.973, Pvalue=0.010\n",
      "Probability of score of pre and post =  1.007144862643272 %\n",
      "We Reject Null Hypothesis\n",
      "The mean pre-test and post-test scores are not equal\n"
     ]
    }
   ],
   "source": [
    "stat,p = ttest_rel(pre,post)\n",
    "print('statistic=%.3f, Pvalue=%.3f' % (stat, p))\n",
    "print('Probability of score of pre and post = ', p*100,\"%\")\n",
    "if p > 0.05:\n",
    "    print(\"We Accept Null Hypothesis\")\n",
    "    print(\"The mean pre-test and post-test scores are equal\")\n",
    "else:\n",
    "    print(\"We Reject Null Hypothesis\")\n",
    "    print(\"The mean pre-test and post-test scores are not equal\")"
   ]
  },
  {
   "cell_type": "markdown",
   "metadata": {},
   "source": [
    "#### 3. Analysis of Variance Test (ANOVA) Test : \n",
    "- Known as Analysis of Variance\n",
    "- Used to compair mean of more than 2 population in order to determine whether or not there is a significant difference b/w means.\n",
    "- link : https://docs.scipy.org/doc/scipy/reference/generated/scipy.stats.f_oneway.html"
   ]
  },
  {
   "cell_type": "code",
   "execution_count": 78,
   "metadata": {},
   "outputs": [],
   "source": [
    "from scipy.stats import f_oneway"
   ]
  },
  {
   "cell_type": "code",
   "execution_count": 79,
   "metadata": {},
   "outputs": [],
   "source": [
    "pre = [88, 82, 84, 93, 75, 78, 84, 87, 95, 91, 83, 89, 77, 68, 91]\n",
    "post = [91, 84, 88, 90, 79, 80, 88, 90, 90, 96, 88, 89, 81, 74, 92]\n",
    "In = [87, 88, 92, 85, 80, 90, 82, 84, 96, 81, 73, 78, 75, 82, 79]"
   ]
  },
  {
   "cell_type": "markdown",
   "metadata": {},
   "source": [
    "###### Null Hypothesis , H0 = The mean of samples are equal\n",
    "###### Alt Hypothesis , Ha = The mean of samples are  not equal"
   ]
  },
  {
   "cell_type": "code",
   "execution_count": 80,
   "metadata": {},
   "outputs": [
    {
     "name": "stdout",
     "output_type": "stream",
     "text": [
      "statistic=0.949, Pvalue=0.395\n",
      "Probability of score of pre and post =  39.525674452794746 %\n",
      "We Accept Null Hypothesis\n",
      "The mean of samples are equal\n"
     ]
    }
   ],
   "source": [
    "stat,p = f_oneway(pre, post, In)\n",
    "print('statistic=%.3f, Pvalue=%.3f' % (stat, p))\n",
    "print('Probability of score of pre and post = ', p*100,\"%\")\n",
    "if p > 0.05:\n",
    "    print(\"We Accept Null Hypothesis\")\n",
    "    print(\"The mean of samples are equal\")\n",
    "else:\n",
    "    print(\"We Reject Null Hypothesis\")\n",
    "    print(\"The mean of samples are not equal\")"
   ]
  },
  {
   "cell_type": "markdown",
   "metadata": {},
   "source": [
    "#### 4. Mann-Whitney U Test\n",
    "- Used to tests whether the distributions of two independent samples are equal or not.\n",
    "- link : https://docs.scipy.org/doc/scipy/reference/generated/scipy.stats.mannwhitneyu.html"
   ]
  },
  {
   "cell_type": "code",
   "execution_count": 81,
   "metadata": {},
   "outputs": [],
   "source": [
    "from scipy.stats import mannwhitneyu"
   ]
  },
  {
   "cell_type": "code",
   "execution_count": 82,
   "metadata": {},
   "outputs": [],
   "source": [
    "data1 = [0.873, 2.817, 0.121, -0.945, -0.055, -1.436, 0.360, -1.478, -1.637, -1.869]\n",
    "data2 = [1.142, -0.432, -0.938, -0.729, -0.846, -0.157, 0.500, 1.183, -1.075, -0.169]"
   ]
  },
  {
   "cell_type": "markdown",
   "metadata": {},
   "source": [
    "###### Null Hypothesis, H0: the distributions of both samples are equal.\n",
    "###### Alt Hypothesis ,H1: the distributions of both samples are not equal."
   ]
  },
  {
   "cell_type": "code",
   "execution_count": 83,
   "metadata": {},
   "outputs": [
    {
     "name": "stdout",
     "output_type": "stream",
     "text": [
      "statistic=40.000, Pvalue=0.236\n",
      "Probability  =  23.63377967557936 %\n",
      "We Accept Null Hypothesis\n",
      "the distributions of both samples are equal\n"
     ]
    }
   ],
   "source": [
    "stat,p = mannwhitneyu(data1, data2)\n",
    "print('statistic=%.3f, Pvalue=%.3f' % (stat, p))\n",
    "print('Probability  = ', p*100,\"%\")\n",
    "if p > 0.05:\n",
    "    print(\"We Accept Null Hypothesis\")\n",
    "    print(\"the distributions of both samples are equal\")\n",
    "else:\n",
    "    print(\"We Reject Null Hypothesis\")\n",
    "    print(\"the distributions of both samples are not equal\")"
   ]
  },
  {
   "cell_type": "markdown",
   "metadata": {},
   "source": [
    "#### 5. Wilcoxon Signed-Rank Test\n",
    "- Used to tests whether the distributions of two paired samples are equal or not.\n",
    "- link : https://docs.scipy.org/doc/scipy/reference/generated/scipy.stats.wilcoxon.html"
   ]
  },
  {
   "cell_type": "code",
   "execution_count": 84,
   "metadata": {},
   "outputs": [],
   "source": [
    "from scipy.stats import wilcoxon"
   ]
  },
  {
   "cell_type": "code",
   "execution_count": 85,
   "metadata": {},
   "outputs": [],
   "source": [
    "data1 = [0.873, 2.817, 0.121, -0.945, -0.055, -1.436, 0.360, -1.478, -1.637, -1.869]\n",
    "data2 = [1.142, -0.432, -0.938, -0.729, -0.846, -0.157, 0.500, 1.183, -1.075, -0.169]"
   ]
  },
  {
   "cell_type": "markdown",
   "metadata": {},
   "source": [
    "###### Null Hypothesis, H0: the distributions of both samples are equal.\n",
    "###### Alt Hypothesis, H1: the distributions of both samples are not equal."
   ]
  },
  {
   "cell_type": "code",
   "execution_count": 86,
   "metadata": {},
   "outputs": [
    {
     "name": "stdout",
     "output_type": "stream",
     "text": [
      "statistic=21.000, Pvalue=0.557\n",
      "Probability  =  55.6640625 %\n",
      "We Accept Null Hypothesis\n",
      "the distributions of both samples are equal\n"
     ]
    }
   ],
   "source": [
    "stat,p = wilcoxon(data1, data2)\n",
    "print('statistic=%.3f, Pvalue=%.3f' % (stat, p))\n",
    "print('Probability  = ', p*100,\"%\")\n",
    "if p > 0.05:\n",
    "    print(\"We Accept Null Hypothesis\")\n",
    "    print(\"the distributions of both samples are equal\")\n",
    "else:\n",
    "    print(\"We Reject Null Hypothesis\")\n",
    "    print(\"the distributions of both samples are not equal\")"
   ]
  },
  {
   "cell_type": "markdown",
   "metadata": {},
   "source": [
    "#### 6. Kruskal-Wallis H Test : \n",
    "- Used to tests whether the distributions of two or more independent samples are equal or not.\n",
    "- link : https://docs.scipy.org/doc/scipy/reference/generated/scipy.stats.kruskal.html"
   ]
  },
  {
   "cell_type": "code",
   "execution_count": 87,
   "metadata": {},
   "outputs": [],
   "source": [
    "from scipy.stats import kruskal"
   ]
  },
  {
   "cell_type": "code",
   "execution_count": 88,
   "metadata": {},
   "outputs": [],
   "source": [
    "data1 = [0.873, 2.817, 0.121, -0.945, -0.055, -1.436, 0.360, -1.478, -1.637, -1.869]\n",
    "data2 = [1.142, -0.432, -0.938, -0.729, -0.846, -0.157, 0.500, 1.183, -1.075, -0.169]"
   ]
  },
  {
   "cell_type": "markdown",
   "metadata": {},
   "source": [
    "###### Null Hypothesis, H0: the distributions of all samples are equal.\n",
    "###### Alt Hypothesis, H1: the distributions of one or more samples are not equal."
   ]
  },
  {
   "cell_type": "code",
   "execution_count": 89,
   "metadata": {},
   "outputs": [
    {
     "name": "stdout",
     "output_type": "stream",
     "text": [
      "statistic=0.571, Pvalue=0.450\n",
      "Probability  =  44.96917979688917 %\n",
      "We Accept Null Hypothesis\n",
      "\n"
     ]
    }
   ],
   "source": [
    "stat, p = kruskal(data1, data2)\n",
    "print('statistic=%.3f, Pvalue=%.3f' % (stat, p))\n",
    "print('Probability  = ', p*100,\"%\")\n",
    "if p > 0.05:\n",
    "    print(\"We Accept Null Hypothesis\")\n",
    "    print(\"\")\n",
    "else:\n",
    "    print(\"We Reject Null Hypothesis\")\n",
    "    print(\"\")"
   ]
  },
  {
   "cell_type": "markdown",
   "metadata": {},
   "source": [
    "#### 7. Friedman Test : \n",
    "- Used to tests whether the distributions of two or more paired samples are equal or not\n",
    "- link : https://docs.scipy.org/doc/scipy/reference/generated/scipy.stats.friedmanchisquare.html"
   ]
  },
  {
   "cell_type": "code",
   "execution_count": 90,
   "metadata": {},
   "outputs": [],
   "source": [
    "from scipy.stats import friedmanchisquare"
   ]
  },
  {
   "cell_type": "code",
   "execution_count": 91,
   "metadata": {},
   "outputs": [],
   "source": [
    "data1 = [0.873, 2.817, 0.121, -0.945, -0.055, -1.436, 0.360, -1.478, -1.637, -1.869]\n",
    "data2 = [1.142, -0.432, -0.938, -0.729, -0.846, -0.157, 0.500, 1.183, -1.075, -0.169]\n",
    "data3 = [-0.208, 0.696, 0.928, -1.148, -0.213, 0.229, 0.137, 0.269, -0.870, -1.204]"
   ]
  },
  {
   "cell_type": "markdown",
   "metadata": {},
   "source": [
    "###### Null Hypothesis,  H0: the distributions of all samples are equal.\n",
    "###### Alt Hypothesis, H1: the distributions of one or more samples are not equal."
   ]
  },
  {
   "cell_type": "code",
   "execution_count": 92,
   "metadata": {},
   "outputs": [
    {
     "name": "stdout",
     "output_type": "stream",
     "text": [
      "statistic=0.800, Pvalue=0.670\n",
      "Probability  =  67.03200460356355 %\n",
      "We Accept Null Hypothesis\n",
      "the distributions of all samples are equal\n"
     ]
    }
   ],
   "source": [
    "stat, p = friedmanchisquare(data1, data2, data3)\n",
    "print('statistic=%.3f, Pvalue=%.3f' % (stat, p))\n",
    "print('Probability  = ', p*100,\"%\")\n",
    "if p > 0.05:\n",
    "    print(\"We Accept Null Hypothesis\")\n",
    "    print(\"the distributions of all samples are equal\")\n",
    "else:\n",
    "    print(\"We Reject Null Hypothesis\")\n",
    "    print(\"the distributions of one or more samples are not equal\")"
   ]
  },
  {
   "cell_type": "markdown",
   "metadata": {},
   "source": [
    "#### 8. KS(Kolmogorov–Smirnov ) Test : \n",
    "- Used to compare a sample with a reference probability distribution (one-sample K–S test), or to compare two samples (two-sample K–S test).\n",
    "- The KS test is only valid for continuous distributions\n",
    "- link : https://docs.scipy.org/doc/scipy/reference/generated/scipy.stats.kstest.html#scipy.stats.kstest"
   ]
  },
  {
   "cell_type": "code",
   "execution_count": 93,
   "metadata": {},
   "outputs": [],
   "source": [
    "from scipy.stats import kstest"
   ]
  },
  {
   "cell_type": "code",
   "execution_count": 94,
   "metadata": {},
   "outputs": [],
   "source": [
    "data1 = [0.873, 2.817, 0.121, -0.945, -0.055, -1.436, 0.360, -1.478, -1.637, -1.869]\n",
    "data2 = [1.142, -0.432, -0.938, -0.729, -0.846, -0.157, 0.500, 1.183, -1.075, -0.169]"
   ]
  },
  {
   "cell_type": "markdown",
   "metadata": {},
   "source": [
    "###### Null Hypothesis,  H0: the distributions of all samples are equal.\n",
    "###### Alt Hypothesis, H1: the distributions of one or more samples are not equal."
   ]
  },
  {
   "cell_type": "code",
   "execution_count": 95,
   "metadata": {},
   "outputs": [
    {
     "name": "stdout",
     "output_type": "stream",
     "text": [
      "statistic=0.400, Pvalue=0.418\n",
      "Probability  =  41.752365281777045 %\n",
      "We Accept Null Hypothesis\n",
      "the distributions of all samples are equal\n"
     ]
    }
   ],
   "source": [
    "stat, p = kstest(data1, data2)\n",
    "print('statistic=%.3f, Pvalue=%.3f' % (stat, p))\n",
    "print('Probability  = ', p*100,\"%\")\n",
    "if p > 0.05:\n",
    "    print(\"We Accept Null Hypothesis\")\n",
    "    print(\"the distributions of all samples are equal\")\n",
    "else:\n",
    "    print(\"We Reject Null Hypothesis\")\n",
    "    print(\"the distributions of one or more samples are not equal\")"
   ]
  },
  {
   "cell_type": "markdown",
   "metadata": {},
   "source": [
    "#### 9. Shapiro-Wilk Test : \n",
    "- Used to tests whether a data sample has a Gaussian distribution.\n",
    "- link : https://docs.scipy.org/doc/scipy/reference/generated/scipy.stats.shapiro.html"
   ]
  },
  {
   "cell_type": "code",
   "execution_count": 96,
   "metadata": {},
   "outputs": [],
   "source": [
    "from scipy.stats import shapiro"
   ]
  },
  {
   "cell_type": "code",
   "execution_count": 97,
   "metadata": {},
   "outputs": [],
   "source": [
    "data = [0.873, 2.817, 0.121, -0.945, -0.055, -1.436, 0.360, -1.478, -1.637, -1.869]"
   ]
  },
  {
   "cell_type": "markdown",
   "metadata": {},
   "source": [
    "###### Null Hypothesis, H0: the sample has a Gaussian distribution.\n",
    "###### Alt Hypothesis, H1: the sample does not have a Gaussian distribution."
   ]
  },
  {
   "cell_type": "code",
   "execution_count": 98,
   "metadata": {},
   "outputs": [
    {
     "name": "stdout",
     "output_type": "stream",
     "text": [
      "statistic=0.895, Pvalue=0.193\n",
      "Probability  =  19.340917468070984 %\n",
      "We Accept Null Hypothesis\n",
      "the sample has a Gaussian distribution\n"
     ]
    }
   ],
   "source": [
    "stat, p = shapiro(data)\n",
    "print('statistic=%.3f, Pvalue=%.3f' % (stat, p))\n",
    "print('Probability  = ', p*100,\"%\")\n",
    "if p > 0.05:\n",
    "    print(\"We Accept Null Hypothesis\")\n",
    "    print(\"the sample has a Gaussian distribution\")\n",
    "else:\n",
    "    print(\"We Reject Null Hypothesis\")\n",
    "    print(\"the sample does not have a Gaussian distribution\")"
   ]
  },
  {
   "cell_type": "markdown",
   "metadata": {},
   "source": [
    "#### 10. D’Agostino’s K^2 Test : \n",
    "- USed to tests whether a data sample has a Gaussian distribution.\n",
    "- link : https://docs.scipy.org/doc/scipy/reference/generated/scipy.stats.normaltest.html"
   ]
  },
  {
   "cell_type": "code",
   "execution_count": 99,
   "metadata": {},
   "outputs": [],
   "source": [
    "from scipy.stats import normaltest"
   ]
  },
  {
   "cell_type": "code",
   "execution_count": 100,
   "metadata": {},
   "outputs": [],
   "source": [
    "data = [0.873, 2.817, 0.121, -0.945, -0.055, -1.436, 0.360, -1.478, -1.637, -1.869]"
   ]
  },
  {
   "cell_type": "markdown",
   "metadata": {},
   "source": [
    "###### Null Hypothesis, H0: the sample has a Gaussian distribution.\n",
    "###### Alt Hypothesis, H1: the sample does not have a Gaussian distribution."
   ]
  },
  {
   "cell_type": "code",
   "execution_count": 101,
   "metadata": {},
   "outputs": [
    {
     "name": "stdout",
     "output_type": "stream",
     "text": [
      "statistic=0.895, Pvalue=0.193\n",
      "Probability  =  19.340917468070984 %\n",
      "We Accept Null Hypothesis\n",
      "the sample has a Gaussian distribution\n"
     ]
    }
   ],
   "source": [
    "print('statistic=%.3f, Pvalue=%.3f' % (stat, p))\n",
    "print('Probability  = ', p*100,\"%\")\n",
    "if p > 0.05:\n",
    "    print(\"We Accept Null Hypothesis\")\n",
    "    print(\"the sample has a Gaussian distribution\")\n",
    "else:\n",
    "    print(\"We Reject Null Hypothesis\")\n",
    "    print(\"the sample does not have a Gaussian distribution\")"
   ]
  },
  {
   "cell_type": "markdown",
   "metadata": {},
   "source": [
    "#### 11. Anderson-Darling Test :\n",
    "- Used to tests whether a data sample has a Gaussian distribution.\n",
    "- link : https://docs.scipy.org/doc/scipy/reference/generated/scipy.stats.anderson.html"
   ]
  },
  {
   "cell_type": "code",
   "execution_count": 102,
   "metadata": {},
   "outputs": [],
   "source": [
    "from scipy.stats import anderson"
   ]
  },
  {
   "cell_type": "code",
   "execution_count": 103,
   "metadata": {},
   "outputs": [],
   "source": [
    "data = [0.873, 2.817, 0.121, -0.945, -0.055, -1.436, 0.360, -1.478, -1.637, -1.869]"
   ]
  },
  {
   "cell_type": "markdown",
   "metadata": {},
   "source": [
    "###### Null Hypothesis, H0: the sample has a Gaussian distribution.\n",
    "###### Alt Hypothesis, H1: the sample does not have a Gaussian distribution."
   ]
  },
  {
   "cell_type": "code",
   "execution_count": 104,
   "metadata": {},
   "outputs": [
    {
     "name": "stdout",
     "output_type": "stream",
     "text": [
      "statistic=0.424\n",
      "We Accept Null Hypothesis\n",
      "Probably Gaussian at the 15.0% level\n",
      "We Accept Null Hypothesis\n",
      "Probably Gaussian at the 10.0% level\n",
      "We Accept Null Hypothesis\n",
      "Probably Gaussian at the 5.0% level\n",
      "We Accept Null Hypothesis\n",
      "Probably Gaussian at the 2.5% level\n",
      "We Accept Null Hypothesis\n",
      "Probably Gaussian at the 1.0% level\n"
     ]
    }
   ],
   "source": [
    "result = anderson(data)\n",
    "print('statistic=%.3f' % (result.statistic))\n",
    "for i in range(len(result.critical_values)):\n",
    "    sl, cv = result.significance_level[i], result.critical_values[i]\n",
    "    if result.statistic < cv:\n",
    "        print(\"We Accept Null Hypothesis\")\n",
    "        print('Probably Gaussian at the %.1f%% level' % (sl))\n",
    "    else:\n",
    "        print(\"We Reject Null Hypothesis\")\n",
    "        print('Probably not Gaussian at the %.1f%% level' % (sl))"
   ]
  },
  {
   "cell_type": "markdown",
   "metadata": {},
   "source": [
    "#### 12. Pearson’s Correlation Coefficient : \n",
    "- Used to tests whether two samples have a linear relationship.\n",
    "- link https://docs.scipy.org/doc/scipy/reference/generated/scipy.stats.pearsonr.html"
   ]
  },
  {
   "cell_type": "code",
   "execution_count": 105,
   "metadata": {},
   "outputs": [],
   "source": [
    "from scipy.stats import pearsonr"
   ]
  },
  {
   "cell_type": "code",
   "execution_count": 106,
   "metadata": {},
   "outputs": [],
   "source": [
    "data1 = [0.873, 2.817, 0.121, -0.945, -0.055, -1.436, 0.360, -1.478, -1.637, -1.869]\n",
    "data2 = [0.353, 3.517, 0.125, -7.545, -0.555, -1.536, 3.350, -1.578, -3.537, -1.579]"
   ]
  },
  {
   "cell_type": "markdown",
   "metadata": {},
   "source": [
    "###### Null Hypothesis, H0: the two samples are independent.\n",
    "###### Alt Hypothesis, H1: the two samples are not independent."
   ]
  },
  {
   "cell_type": "code",
   "execution_count": 107,
   "metadata": {},
   "outputs": [
    {
     "name": "stdout",
     "output_type": "stream",
     "text": [
      "correlation coefficient=0.688, Pvalue=0.028\n",
      "Probability  =  2.787296951449617 %\n",
      "We Reject Null Hypothesis\n",
      "the two samples are not independent.\n"
     ]
    }
   ],
   "source": [
    "r, p = pearsonr(data1, data2)\n",
    "print('correlation coefficient=%.3f, Pvalue=%.3f' % (r, p))\n",
    "print('Probability  = ', p*100,\"%\")\n",
    "if p > 0.05:\n",
    "    print(\"We Accept Null Hypothesis\")\n",
    "    print(\"the two samples are independent.\")\n",
    "else:\n",
    "    print(\"We Reject Null Hypothesis\")\n",
    "    print(\"the two samples are not independent.\")"
   ]
  },
  {
   "cell_type": "markdown",
   "metadata": {},
   "source": [
    "#### 13. Spearman’s Rank Correlation :\n",
    "- Used to tests whether two samples have a monotonic relationship.\n",
    "- link : https://docs.scipy.org/doc/scipy/reference/generated/scipy.stats.spearmanr.html"
   ]
  },
  {
   "cell_type": "code",
   "execution_count": 108,
   "metadata": {},
   "outputs": [],
   "source": [
    "from scipy.stats import spearmanr"
   ]
  },
  {
   "cell_type": "code",
   "execution_count": 109,
   "metadata": {},
   "outputs": [],
   "source": [
    "data1 = [0.873, 2.817, 0.121, -0.945, -0.055, -1.436, 0.360, -1.478, -1.637, -1.869]\n",
    "data2 = [0.353, 3.517, 0.125, -7.545, -0.555, -1.536, 3.350, -1.578, -3.537, -1.579]"
   ]
  },
  {
   "cell_type": "markdown",
   "metadata": {},
   "source": [
    "###### Null Hypothesis, H0: the two samples are independent.\n",
    "###### Alt Hypothesis, H1: the two samples are not independent."
   ]
  },
  {
   "cell_type": "code",
   "execution_count": 110,
   "metadata": {},
   "outputs": [
    {
     "name": "stdout",
     "output_type": "stream",
     "text": [
      "correlation coefficient=0.855, Pvalue=0.002\n",
      "Probability  =  0.16368033159867143 %\n",
      "We Reject Null Hypothesis\n",
      "the two samples are not independent.\n"
     ]
    }
   ],
   "source": [
    "r, p = spearmanr(data1, data2)\n",
    "print('correlation coefficient=%.3f, Pvalue=%.3f' % (r, p))\n",
    "print('Probability  = ', p*100,\"%\")\n",
    "if p > 0.05:\n",
    "    print(\"We Accept Null Hypothesis\")\n",
    "    print(\"the two samples are independent.\")\n",
    "else:\n",
    "    print(\"We Reject Null Hypothesis\")\n",
    "    print(\"the two samples are not independent.\")"
   ]
  },
  {
   "cell_type": "markdown",
   "metadata": {},
   "source": [
    "#### 14. Kendall’s Rank Correlation : \n",
    "- Used to tests whether two samples have a monotonic relationship\n",
    "- link : https://docs.scipy.org/doc/scipy/reference/generated/scipy.stats.kendalltau.html"
   ]
  },
  {
   "cell_type": "code",
   "execution_count": 111,
   "metadata": {},
   "outputs": [],
   "source": [
    "from scipy.stats import kendalltau"
   ]
  },
  {
   "cell_type": "code",
   "execution_count": 112,
   "metadata": {},
   "outputs": [],
   "source": [
    "data1 = [0.873, 2.817, 0.121, -0.945, -0.055, -1.436, 0.360, -1.478, -1.637, -1.869]\n",
    "data2 = [0.353, 3.517, 0.125, -7.545, -0.555, -1.536, 3.350, -1.578, -3.537, -1.579]"
   ]
  },
  {
   "cell_type": "markdown",
   "metadata": {},
   "source": [
    "###### Null Hypothesis, H0: the two samples are independent.\n",
    "###### Alt Hypothesis, H1: the two samples are not independent."
   ]
  },
  {
   "cell_type": "code",
   "execution_count": 113,
   "metadata": {},
   "outputs": [
    {
     "name": "stdout",
     "output_type": "stream",
     "text": [
      "correlation coefficient=0.733, Pvalue=0.002\n",
      "Probability  =  0.2212852733686067 %\n",
      "We Reject Null Hypothesis\n",
      "the two samples are not independent\n"
     ]
    }
   ],
   "source": [
    "r, p = kendalltau(data1, data2)\n",
    "print('correlation coefficient=%.3f, Pvalue=%.3f' % (r, p))\n",
    "print('Probability  = ', p*100,\"%\")\n",
    "if p > 0.05:\n",
    "    print(\"We Accept Null Hypothesis\")\n",
    "    print(\"the two samples are independent\")\n",
    "else:\n",
    "    print(\"We Reject Null Hypothesis\")\n",
    "    print(\"the two samples are not independent\")"
   ]
  },
  {
   "cell_type": "markdown",
   "metadata": {},
   "source": [
    "#### 15. Chi-Squared Test : \n",
    "- Used to tests whether two categorical variables are related or independent.\n",
    "- link : https://docs.scipy.org/doc/scipy/reference/generated/scipy.stats.chi2_contingency.html"
   ]
  },
  {
   "cell_type": "code",
   "execution_count": 114,
   "metadata": {},
   "outputs": [],
   "source": [
    "from scipy.stats import chi2_contingency"
   ]
  },
  {
   "cell_type": "code",
   "execution_count": 115,
   "metadata": {},
   "outputs": [],
   "source": [
    "table = [[10, 20, 30],[6,  9,  17]]"
   ]
  },
  {
   "cell_type": "markdown",
   "metadata": {},
   "source": [
    "###### Null Hypothesis, H0 : The two variables are independent  \n",
    "###### Alt Hypothesis, H1 : The two variables are not independent"
   ]
  },
  {
   "cell_type": "code",
   "execution_count": 116,
   "metadata": {},
   "outputs": [
    {
     "name": "stdout",
     "output_type": "stream",
     "text": [
      "statistic=0.272, Pvalue=0.873\n",
      "Probability  =  87.3028283380073 %\n",
      "We Accept Null Hypothesis\n",
      "The two variables are independent\n"
     ]
    }
   ],
   "source": [
    "stat, p, dof, expected = chi2_contingency(table)\n",
    "print('statistic=%.3f, Pvalue=%.3f' % (stat, p))\n",
    "print('Probability  = ', p*100,\"%\")\n",
    "if p > 0.05:\n",
    "    print(\"We Accept Null Hypothesis\")\n",
    "    print(\"The two variables are independent\")\n",
    "else:\n",
    "    print(\"We Reject Null Hypothesis\")\n",
    "    print(\"The two variables are not independent\")"
   ]
  },
  {
   "cell_type": "markdown",
   "metadata": {},
   "source": [
    "#### 16. Fisher's Exact Test : \n",
    "- Used to tests whether two categorical variables are related or independent.\n",
    "- used as an alternative to the Chi-Square \n",
    "- 2x2 contingency table. Elements should be non-negative integers\n",
    "- link : https://docs.scipy.org/doc/scipy/reference/generated/scipy.stats.fisher_exact.html"
   ]
  },
  {
   "cell_type": "code",
   "execution_count": 117,
   "metadata": {},
   "outputs": [],
   "source": [
    "from scipy.stats import fisher_exact"
   ]
  },
  {
   "cell_type": "code",
   "execution_count": 118,
   "metadata": {},
   "outputs": [],
   "source": [
    "table = [[10, 20],[6,  9]]"
   ]
  },
  {
   "cell_type": "markdown",
   "metadata": {},
   "source": [
    "###### Null Hypothesis, H0 : The two variables are independent  \n",
    "###### Alt Hypothesis, H1 : The two variables are not independent"
   ]
  },
  {
   "cell_type": "code",
   "execution_count": 119,
   "metadata": {},
   "outputs": [
    {
     "name": "stdout",
     "output_type": "stream",
     "text": [
      "prior odds ratio=0.750, Pvalue=0.746\n",
      "Probability  =  74.63051677558627 %\n",
      "We Accept Null Hypothesis\n",
      "\n"
     ]
    }
   ],
   "source": [
    "odd, p = fisher_exact(table)    \n",
    "print('prior odds ratio=%.3f, Pvalue=%.3f' % (odd, p))\n",
    "print('Probability  = ', p*100,\"%\")\n",
    "if p > 0.05:\n",
    "    print(\"We Accept Null Hypothesis\")\n",
    "    print(\"\")\n",
    "else:\n",
    "    print(\"We Reject Null Hypothesis\")\n",
    "    print(\"\")"
   ]
  },
  {
   "cell_type": "markdown",
   "metadata": {},
   "source": [
    "#### 17. Augmented Dickey-Fuller : \n",
    "- Used to tests whether a time series has a unit root, e.g. has a trend or more generally is autoregressive.\n",
    "- link : https://www.statsmodels.org/dev/generated/statsmodels.tsa.stattools.adfuller.html"
   ]
  },
  {
   "cell_type": "code",
   "execution_count": 120,
   "metadata": {},
   "outputs": [],
   "source": [
    "from statsmodels.tsa.stattools import adfuller"
   ]
  },
  {
   "cell_type": "code",
   "execution_count": 121,
   "metadata": {},
   "outputs": [],
   "source": [
    "data = [0, 1, 2, 3, 4, 5, 6, 7, 8, 9]"
   ]
  },
  {
   "cell_type": "markdown",
   "metadata": {},
   "source": [
    "###### Null Hypothesis, H0: a unit root is present (series is non-stationary).\n",
    "###### Alt Hypothesis, H1: a unit root is not present (series is stationary)"
   ]
  },
  {
   "cell_type": "code",
   "execution_count": 122,
   "metadata": {},
   "outputs": [
    {
     "name": "stdout",
     "output_type": "stream",
     "text": [
      "statistic=nan, Pvalue=nan\n",
      "Probability  =  nan %\n",
      "We Reject Null Hypothesis\n",
      "a unit root is not present (series is stationary).\n"
     ]
    }
   ],
   "source": [
    "stat, p, lags, obs, crit, t = adfuller(data)\n",
    "print('statistic=%.3f, Pvalue=%.3f' % (stat, p))\n",
    "print('Probability  = ', p*100,\"%\")\n",
    "if p > 0.05:\n",
    "    print(\"We Accept Null Hypothesis\")\n",
    "    print(\"a unit root is present (series is non-stationary).\")\n",
    "else:\n",
    "    print(\"We Reject Null Hypothesis\")\n",
    "    print(\"a unit root is not present (series is stationary).\")"
   ]
  },
  {
   "cell_type": "markdown",
   "metadata": {},
   "source": [
    "#### 18. Kwiatkowski-Phillips-Schmidt-Shin : \n",
    "- Used to tests whether a time series is trend stationary or not.\n",
    "- link : https://www.statsmodels.org/dev/generated/statsmodels.tsa.stattools.kpss.html"
   ]
  },
  {
   "cell_type": "code",
   "execution_count": 123,
   "metadata": {},
   "outputs": [],
   "source": [
    "from statsmodels.tsa.stattools import kpss"
   ]
  },
  {
   "cell_type": "code",
   "execution_count": 124,
   "metadata": {},
   "outputs": [],
   "source": [
    "data = [0, 1, 2, 3, 4, 5, 6, 7, 8, 9]"
   ]
  },
  {
   "cell_type": "markdown",
   "metadata": {},
   "source": [
    "###### Null Hypothesis, H0: the time series is not trend-stationary.\n",
    "###### Alt Hypothesis, H1: the time series is trend-stationary."
   ]
  },
  {
   "cell_type": "code",
   "execution_count": 125,
   "metadata": {},
   "outputs": [
    {
     "name": "stdout",
     "output_type": "stream",
     "text": [
      "statistic=0.410, Pvalue=0.073\n",
      "Probability  =  7.2860732917674005 %\n",
      "We Accept Null Hypothesis\n",
      "the time series is not trend-stationary\n"
     ]
    }
   ],
   "source": [
    "stat, p, lags, crit = kpss(data)\n",
    "print('statistic=%.3f, Pvalue=%.3f' % (stat, p))\n",
    "print('Probability  = ', p*100,\"%\")\n",
    "if p > 0.05:\n",
    "    print(\"We Accept Null Hypothesis\")\n",
    "    print(\"the time series is not trend-stationary\")\n",
    "else:\n",
    "    print(\"We Reject Null Hypothesis\")\n",
    "    print(\"the time series is trend-stationary\")"
   ]
  },
  {
   "cell_type": "code",
   "execution_count": null,
   "metadata": {},
   "outputs": [],
   "source": []
  }
 ],
 "metadata": {
  "kernelspec": {
   "display_name": "Python 3",
   "language": "python",
   "name": "python3"
  },
  "language_info": {
   "codemirror_mode": {
    "name": "ipython",
    "version": 3
   },
   "file_extension": ".py",
   "mimetype": "text/x-python",
   "name": "python",
   "nbconvert_exporter": "python",
   "pygments_lexer": "ipython3",
   "version": "3.8.3"
  }
 },
 "nbformat": 4,
 "nbformat_minor": 4
}
